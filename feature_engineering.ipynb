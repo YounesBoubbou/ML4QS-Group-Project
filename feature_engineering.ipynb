{
 "cells": [
  {
   "cell_type": "markdown",
   "metadata": {},
   "source": [
    "# Loading The Dataset"
   ]
  },
  {
   "cell_type": "code",
   "execution_count": 13,
   "metadata": {},
   "outputs": [],
   "source": [
    "import pandas as pd\n",
    "import numpy as np\n",
    "\n",
    "# Load the dataset\n",
    "df = pd.read_csv('cleaned_gaming_data.csv')\n"
   ]
  },
  {
   "cell_type": "code",
   "execution_count": 14,
   "metadata": {},
   "outputs": [],
   "source": [
    "# Time-based features\n",
    "df['Time_rolling_avg_0.1s'] = df['Sound pressure level (dB)'].rolling(window=1).mean()\n",
    "df['Time_rolling_avg_0.5s'] = df['Sound pressure level (dB)'].rolling(window=5).mean()\n",
    "df['Time_rolling_avg_1s'] = df['Sound pressure level (dB)'].rolling(window=10).mean()"
   ]
  },
  {
   "cell_type": "code",
   "execution_count": 15,
   "metadata": {},
   "outputs": [],
   "source": [
    "# Aggregation features over 5-second intervals\n",
    "df['SPL_mean_0.5s'] = df['Sound pressure level (dB)'].rolling(window=5).mean()\n",
    "df['SPL_std_0.5s'] = df['Sound pressure level (dB)'].rolling(window=5).std()\n",
    "df['HR_mean_0.5s'] = df['Heart rate(bpm)'].rolling(window=5).mean()\n",
    "df['HR_std_0.5s'] = df['Heart rate(bpm)'].rolling(window=5).std()"
   ]
  },
  {
   "cell_type": "code",
   "execution_count": 16,
   "metadata": {},
   "outputs": [],
   "source": [
    "# Interaction features\n",
    "df['SPL_HR_interaction'] = df['Sound pressure level (dB)'] * df['Heart rate(bpm)']"
   ]
  },
  {
   "cell_type": "code",
   "execution_count": 18,
   "metadata": {},
   "outputs": [],
   "source": [
    "# Define a mapping from emotional state to numerical values\n",
    "emotional_state_mapping = {\n",
    "    'Calm': 0,\n",
    "    'Excited': 1,\n",
    "    'Sad': 2\n",
    "}\n",
    "\n",
    "# Apply the mapping to create a new column\n",
    "df['emotional_state'] = df['Emotional state'].map(emotional_state_mapping)\n",
    "\n",
    "# Drop the old 'Emotional state' column\n",
    "df = df.drop(columns=['Emotional state'])\n"
   ]
  },
  {
   "cell_type": "code",
   "execution_count": 19,
   "metadata": {},
   "outputs": [],
   "source": [
    "# Statistical features\n",
    "df['SPL_variance'] = df['Sound pressure level (dB)'].rolling(window=5).var()\n",
    "df['HR_variance'] = df['Heart rate(bpm)'].rolling(window=5).var()"
   ]
  },
  {
   "cell_type": "code",
   "execution_count": 20,
   "metadata": {},
   "outputs": [],
   "source": [
    "# Lag features\n",
    "df['SPL_lag_1'] = df['Sound pressure level (dB)'].shift(1)\n",
    "df['HR_lag_1'] = df['Heart rate(bpm)'].shift(1)"
   ]
  },
  {
   "cell_type": "code",
   "execution_count": 21,
   "metadata": {},
   "outputs": [],
   "source": [
    "# Normalization/Scaling\n",
    "from sklearn.preprocessing import StandardScaler\n",
    "scaler = StandardScaler()\n",
    "df[['Sound pressure level (dB)', 'Heart rate(bpm)']] = scaler.fit_transform(df[['Sound pressure level (dB)', 'Heart rate(bpm)']])"
   ]
  },
  {
   "cell_type": "code",
   "execution_count": 22,
   "metadata": {},
   "outputs": [
    {
     "name": "stdout",
     "output_type": "stream",
     "text": [
      "   Label  Time (s)  Sound pressure level (dB)  Music   Win  Heart rate(bpm)  \\\n",
      "0      1  0.000000                        NaN       0    1         0.007355   \n",
      "1      1  0.251030                        NaN       0    1         0.007355   \n",
      "2      1  0.356324                  -2.059808       0    1         0.007355   \n",
      "3      1  0.461766                  -1.496505       0    1         0.007355   \n",
      "4      1  0.565263                  -1.471406       0    1         0.007355   \n",
      "\n",
      "   Time_rolling_avg_0.1s  Time_rolling_avg_0.5s  Time_rolling_avg_1s  \\\n",
      "0                    NaN                    NaN                  NaN   \n",
      "1                    NaN                    NaN                  NaN   \n",
      "2             -72.644830                    NaN                  NaN   \n",
      "3             -68.140698                    NaN                  NaN   \n",
      "4             -67.940010                    NaN                  NaN   \n",
      "\n",
      "   SPL_mean_0.5s  SPL_std_0.5s  HR_mean_0.5s  HR_std_0.5s  SPL_HR_interaction  \\\n",
      "0            NaN           NaN           NaN          NaN                 NaN   \n",
      "1            NaN           NaN           NaN          NaN                 NaN   \n",
      "2            NaN           NaN           NaN          NaN        -6247.455352   \n",
      "3            NaN           NaN           NaN          NaN        -5860.100065   \n",
      "4            NaN           NaN          86.0          0.0        -5842.840888   \n",
      "\n",
      "   emotional_state  SPL_variance  HR_variance  SPL_lag_1  HR_lag_1  \n",
      "0                0           NaN          NaN        NaN       NaN  \n",
      "1                0           NaN          NaN        NaN      86.0  \n",
      "2                0           NaN          NaN        NaN      86.0  \n",
      "3                0           NaN          NaN -72.644830      86.0  \n",
      "4                0           NaN          0.0 -68.140698      86.0  \n"
     ]
    }
   ],
   "source": [
    "print(df.head())"
   ]
  },
  {
   "cell_type": "code",
   "execution_count": 23,
   "metadata": {},
   "outputs": [],
   "source": [
    "df.to_csv('feature_engineered_gaming_data.csv', index=False)"
   ]
  }
 ],
 "metadata": {
  "kernelspec": {
   "display_name": "Python 3",
   "language": "python",
   "name": "python3"
  },
  "language_info": {
   "codemirror_mode": {
    "name": "ipython",
    "version": 3
   },
   "file_extension": ".py",
   "mimetype": "text/x-python",
   "name": "python",
   "nbconvert_exporter": "python",
   "pygments_lexer": "ipython3",
   "version": "3.12.2"
  }
 },
 "nbformat": 4,
 "nbformat_minor": 2
}
